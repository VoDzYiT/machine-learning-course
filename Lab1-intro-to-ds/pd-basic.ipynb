{
 "cells": [
  {
   "cell_type": "code",
   "execution_count": 2,
   "id": "initial_id",
   "metadata": {
    "collapsed": true,
    "jupyter": {
     "outputs_hidden": true
    },
    "ExecuteTime": {
     "end_time": "2025-03-03T14:43:49.792752600Z",
     "start_time": "2025-03-03T14:43:49.481079900Z"
    }
   },
   "outputs": [],
   "source": [
    "# import ipython\n",
    "import matplotlib.pyplot as plt\n",
    "import numpy as np\n",
    "import csv\n",
    "import pandas as pd\n",
    "import seaborn as sns\n",
    "import statistics\n",
    "\n",
    "# ipython --matplotlib"
   ]
  },
  {
   "cell_type": "markdown",
   "id": "96fb86f854717e6",
   "metadata": {
    "collapsed": false
   },
   "source": [
    "## Data cleaning"
   ]
  },
  {
   "cell_type": "markdown",
   "source": [
    "I generated a data frame that consist different problems:\n",
    "- Duplicate values\n",
    "- Name formatting issues: The \"Name\" column includes unnecessary symbols\n",
    "- Incorrect age values: The \"Age\" column contains negative numbers, out-of-range values (e.g., 500), and mixed data types (strings, None)\n",
    "- Invalid scores: The \"Score\" column has values exceeding 100, N/A entries, and string representations of numbers.\n",
    "- Inconsistent phone formats"
   ],
   "metadata": {
    "collapsed": false
   },
   "id": "b791ff6a7a7863ad"
  },
  {
   "cell_type": "code",
   "execution_count": 3,
   "outputs": [],
   "source": [
    "data = pd.DataFrame(data = {\n",
    "    \"ID\": [1, 2, 3, 4, 5, 6, 7, 8, 8],\n",
    "    \"Name\": [\".Alice\", \"//Bob\", \"Charlie\", \"David\", \"Eve\", \"Frank\", \"..Grace\", \"Hannah\", \"Hannah\"],\n",
    "    \"Age\": [20, '22', 22, -5, 19, None, 21, 500, 21],\n",
    "    \"Gender\": [\"F\", \"M\", \"M\", \"M\", \"F\", \"M\", \"F\", \"F\", \"F\"],\n",
    "    \"Score\": [85, 92, np.nan, 78, 110, 65, 'N/A', '89', 89],\n",
    "    \"Phone\": [\"123-456-7890\", \"(123) 456 7890\", \"1234567890\", \"123|456|7890\", \"123.456.7890\", \"+1234567890\", \"(123)-456-7890\", \"123 456 7890\", \"456-789-1234\"],\n",
    "    \"Address\": [\"123 Main St, City\", \"456 Elm St, Town\", \"789 Oak St, Village\", \"101 Maple Ave, City\", \"202 Pine St, Town\", \"303 Cedar Rd, Village\", \"404 Birch Ln, City\", \"505 Walnut St, Town\", \"606 Cherry Blvd, Village\"]\n",
    "})"
   ],
   "metadata": {
    "collapsed": false,
    "ExecuteTime": {
     "end_time": "2025-03-03T14:43:50.443790Z",
     "start_time": "2025-03-03T14:43:49.536050700Z"
    }
   },
   "id": "dec0fd482e40be64"
  },
  {
   "cell_type": "code",
   "execution_count": 4,
   "outputs": [
    {
     "data": {
      "text/plain": "   ID     Name   Age Gender Score           Phone                   Address\n0   1   .Alice    20      F    85    123-456-7890         123 Main St, City\n1   2    //Bob    22      M    92  (123) 456 7890          456 Elm St, Town\n2   3  Charlie    22      M   NaN      1234567890       789 Oak St, Village\n3   4    David    -5      M    78    123|456|7890       101 Maple Ave, City\n4   5      Eve    19      F   110    123.456.7890         202 Pine St, Town\n5   6    Frank  None      M    65     +1234567890     303 Cedar Rd, Village\n6   7  ..Grace    21      F   N/A  (123)-456-7890        404 Birch Ln, City\n7   8   Hannah   500      F    89    123 456 7890       505 Walnut St, Town\n8   8   Hannah    21      F    89    456-789-1234  606 Cherry Blvd, Village",
      "text/html": "<div>\n<style scoped>\n    .dataframe tbody tr th:only-of-type {\n        vertical-align: middle;\n    }\n\n    .dataframe tbody tr th {\n        vertical-align: top;\n    }\n\n    .dataframe thead th {\n        text-align: right;\n    }\n</style>\n<table border=\"1\" class=\"dataframe\">\n  <thead>\n    <tr style=\"text-align: right;\">\n      <th></th>\n      <th>ID</th>\n      <th>Name</th>\n      <th>Age</th>\n      <th>Gender</th>\n      <th>Score</th>\n      <th>Phone</th>\n      <th>Address</th>\n    </tr>\n  </thead>\n  <tbody>\n    <tr>\n      <th>0</th>\n      <td>1</td>\n      <td>.Alice</td>\n      <td>20</td>\n      <td>F</td>\n      <td>85</td>\n      <td>123-456-7890</td>\n      <td>123 Main St, City</td>\n    </tr>\n    <tr>\n      <th>1</th>\n      <td>2</td>\n      <td>//Bob</td>\n      <td>22</td>\n      <td>M</td>\n      <td>92</td>\n      <td>(123) 456 7890</td>\n      <td>456 Elm St, Town</td>\n    </tr>\n    <tr>\n      <th>2</th>\n      <td>3</td>\n      <td>Charlie</td>\n      <td>22</td>\n      <td>M</td>\n      <td>NaN</td>\n      <td>1234567890</td>\n      <td>789 Oak St, Village</td>\n    </tr>\n    <tr>\n      <th>3</th>\n      <td>4</td>\n      <td>David</td>\n      <td>-5</td>\n      <td>M</td>\n      <td>78</td>\n      <td>123|456|7890</td>\n      <td>101 Maple Ave, City</td>\n    </tr>\n    <tr>\n      <th>4</th>\n      <td>5</td>\n      <td>Eve</td>\n      <td>19</td>\n      <td>F</td>\n      <td>110</td>\n      <td>123.456.7890</td>\n      <td>202 Pine St, Town</td>\n    </tr>\n    <tr>\n      <th>5</th>\n      <td>6</td>\n      <td>Frank</td>\n      <td>None</td>\n      <td>M</td>\n      <td>65</td>\n      <td>+1234567890</td>\n      <td>303 Cedar Rd, Village</td>\n    </tr>\n    <tr>\n      <th>6</th>\n      <td>7</td>\n      <td>..Grace</td>\n      <td>21</td>\n      <td>F</td>\n      <td>N/A</td>\n      <td>(123)-456-7890</td>\n      <td>404 Birch Ln, City</td>\n    </tr>\n    <tr>\n      <th>7</th>\n      <td>8</td>\n      <td>Hannah</td>\n      <td>500</td>\n      <td>F</td>\n      <td>89</td>\n      <td>123 456 7890</td>\n      <td>505 Walnut St, Town</td>\n    </tr>\n    <tr>\n      <th>8</th>\n      <td>8</td>\n      <td>Hannah</td>\n      <td>21</td>\n      <td>F</td>\n      <td>89</td>\n      <td>456-789-1234</td>\n      <td>606 Cherry Blvd, Village</td>\n    </tr>\n  </tbody>\n</table>\n</div>"
     },
     "execution_count": 4,
     "metadata": {},
     "output_type": "execute_result"
    }
   ],
   "source": [
    "data"
   ],
   "metadata": {
    "collapsed": false,
    "ExecuteTime": {
     "end_time": "2025-03-03T14:43:50.462319300Z",
     "start_time": "2025-03-03T14:43:49.544812700Z"
    }
   },
   "id": "da8efa55c587c91c"
  },
  {
   "cell_type": "markdown",
   "source": [
    "### Data Cleaning Steps"
   ],
   "metadata": {
    "collapsed": false
   },
   "id": "67c43ae605b4501a"
  },
  {
   "cell_type": "markdown",
   "source": [
    "**Removing Duplicates**"
   ],
   "metadata": {
    "collapsed": false
   },
   "id": "a317934913bb6b77"
  },
  {
   "cell_type": "code",
   "execution_count": 5,
   "id": "1c7e13a0b15feb7d",
   "metadata": {
    "collapsed": false,
    "ExecuteTime": {
     "end_time": "2025-03-03T14:43:50.539411400Z",
     "start_time": "2025-03-03T14:43:49.574654800Z"
    }
   },
   "outputs": [],
   "source": [
    "data = data.drop_duplicates(subset='ID')"
   ]
  },
  {
   "cell_type": "markdown",
   "source": [
    "**Cleaning the \"Name\" column**\n",
    "I used the strip() function with the argument \"/.\", which means that I delete all these symbols.\n"
   ],
   "metadata": {
    "collapsed": false
   },
   "id": "f0053c2ec6c55fcd"
  },
  {
   "cell_type": "code",
   "execution_count": 6,
   "id": "6ed30b58b6681933",
   "metadata": {
    "collapsed": false,
    "ExecuteTime": {
     "end_time": "2025-03-03T14:43:50.558313Z",
     "start_time": "2025-03-03T14:43:49.587712800Z"
    }
   },
   "outputs": [],
   "source": [
    "data.loc[:, 'Name'] = data['Name'].str.strip('/.')"
   ]
  },
  {
   "cell_type": "markdown",
   "source": [
    "**Formatting \"Phone\" Numbers**\n",
    "Firstly i removed all characters except digital ones, and after using lambda function connected them in one pattern"
   ],
   "metadata": {
    "collapsed": false
   },
   "id": "594b8ec2af02c4e"
  },
  {
   "cell_type": "code",
   "execution_count": 7,
   "id": "4aac77e7683e87f2",
   "metadata": {
    "collapsed": false,
    "ExecuteTime": {
     "end_time": "2025-03-03T14:43:50.639487600Z",
     "start_time": "2025-03-03T14:43:49.599403500Z"
    }
   },
   "outputs": [
    {
     "data": {
      "text/plain": "   ID     Name   Age Gender Score         Phone                Address\n0   1    Alice    20      F    85  123-456-7890      123 Main St, City\n1   2      Bob    22      M    92  123-456-7890       456 Elm St, Town\n2   3  Charlie    22      M   NaN  123-456-7890    789 Oak St, Village\n3   4    David    -5      M    78  123-456-7890    101 Maple Ave, City\n4   5      Eve    19      F   110  123-456-7890      202 Pine St, Town\n5   6    Frank  None      M    65  123-456-7890  303 Cedar Rd, Village\n6   7    Grace    21      F   N/A  123-456-7890     404 Birch Ln, City\n7   8   Hannah   500      F    89  123-456-7890    505 Walnut St, Town",
      "text/html": "<div>\n<style scoped>\n    .dataframe tbody tr th:only-of-type {\n        vertical-align: middle;\n    }\n\n    .dataframe tbody tr th {\n        vertical-align: top;\n    }\n\n    .dataframe thead th {\n        text-align: right;\n    }\n</style>\n<table border=\"1\" class=\"dataframe\">\n  <thead>\n    <tr style=\"text-align: right;\">\n      <th></th>\n      <th>ID</th>\n      <th>Name</th>\n      <th>Age</th>\n      <th>Gender</th>\n      <th>Score</th>\n      <th>Phone</th>\n      <th>Address</th>\n    </tr>\n  </thead>\n  <tbody>\n    <tr>\n      <th>0</th>\n      <td>1</td>\n      <td>Alice</td>\n      <td>20</td>\n      <td>F</td>\n      <td>85</td>\n      <td>123-456-7890</td>\n      <td>123 Main St, City</td>\n    </tr>\n    <tr>\n      <th>1</th>\n      <td>2</td>\n      <td>Bob</td>\n      <td>22</td>\n      <td>M</td>\n      <td>92</td>\n      <td>123-456-7890</td>\n      <td>456 Elm St, Town</td>\n    </tr>\n    <tr>\n      <th>2</th>\n      <td>3</td>\n      <td>Charlie</td>\n      <td>22</td>\n      <td>M</td>\n      <td>NaN</td>\n      <td>123-456-7890</td>\n      <td>789 Oak St, Village</td>\n    </tr>\n    <tr>\n      <th>3</th>\n      <td>4</td>\n      <td>David</td>\n      <td>-5</td>\n      <td>M</td>\n      <td>78</td>\n      <td>123-456-7890</td>\n      <td>101 Maple Ave, City</td>\n    </tr>\n    <tr>\n      <th>4</th>\n      <td>5</td>\n      <td>Eve</td>\n      <td>19</td>\n      <td>F</td>\n      <td>110</td>\n      <td>123-456-7890</td>\n      <td>202 Pine St, Town</td>\n    </tr>\n    <tr>\n      <th>5</th>\n      <td>6</td>\n      <td>Frank</td>\n      <td>None</td>\n      <td>M</td>\n      <td>65</td>\n      <td>123-456-7890</td>\n      <td>303 Cedar Rd, Village</td>\n    </tr>\n    <tr>\n      <th>6</th>\n      <td>7</td>\n      <td>Grace</td>\n      <td>21</td>\n      <td>F</td>\n      <td>N/A</td>\n      <td>123-456-7890</td>\n      <td>404 Birch Ln, City</td>\n    </tr>\n    <tr>\n      <th>7</th>\n      <td>8</td>\n      <td>Hannah</td>\n      <td>500</td>\n      <td>F</td>\n      <td>89</td>\n      <td>123-456-7890</td>\n      <td>505 Walnut St, Town</td>\n    </tr>\n  </tbody>\n</table>\n</div>"
     },
     "execution_count": 7,
     "metadata": {},
     "output_type": "execute_result"
    }
   ],
   "source": [
    "data.loc[:, 'Phone'] = data['Phone'].str.replace('[^0-9]', '', regex=True)\n",
    "data.loc[:, 'Phone'] = data['Phone'].apply(lambda x: x[0:3] + '-' + x[3:6] + '-' + x[6:])\n",
    "data"
   ]
  },
  {
   "cell_type": "markdown",
   "source": [
    "**Fixing \"Age\" Column**"
   ],
   "metadata": {
    "collapsed": false
   },
   "id": "5d31eda013ccc8c5"
  },
  {
   "cell_type": "code",
   "execution_count": 8,
   "id": "84278bb7a0d27ace",
   "metadata": {
    "collapsed": false,
    "ExecuteTime": {
     "end_time": "2025-03-03T14:43:50.682604100Z",
     "start_time": "2025-03-03T14:43:49.625923200Z"
    }
   },
   "outputs": [
    {
     "data": {
      "text/plain": "   ID     Name   Age Gender Score         Phone                Address\n0   1    Alice  20.0      F    85  123-456-7890      123 Main St, City\n1   2      Bob  22.0      M    92  123-456-7890       456 Elm St, Town\n2   3  Charlie  22.0      M   NaN  123-456-7890    789 Oak St, Village\n3   4    David   NaN      M    78  123-456-7890    101 Maple Ave, City\n4   5      Eve  19.0      F   110  123-456-7890      202 Pine St, Town\n5   6    Frank   NaN      M    65  123-456-7890  303 Cedar Rd, Village\n6   7    Grace  21.0      F   N/A  123-456-7890     404 Birch Ln, City\n7   8   Hannah   NaN      F    89  123-456-7890    505 Walnut St, Town",
      "text/html": "<div>\n<style scoped>\n    .dataframe tbody tr th:only-of-type {\n        vertical-align: middle;\n    }\n\n    .dataframe tbody tr th {\n        vertical-align: top;\n    }\n\n    .dataframe thead th {\n        text-align: right;\n    }\n</style>\n<table border=\"1\" class=\"dataframe\">\n  <thead>\n    <tr style=\"text-align: right;\">\n      <th></th>\n      <th>ID</th>\n      <th>Name</th>\n      <th>Age</th>\n      <th>Gender</th>\n      <th>Score</th>\n      <th>Phone</th>\n      <th>Address</th>\n    </tr>\n  </thead>\n  <tbody>\n    <tr>\n      <th>0</th>\n      <td>1</td>\n      <td>Alice</td>\n      <td>20.0</td>\n      <td>F</td>\n      <td>85</td>\n      <td>123-456-7890</td>\n      <td>123 Main St, City</td>\n    </tr>\n    <tr>\n      <th>1</th>\n      <td>2</td>\n      <td>Bob</td>\n      <td>22.0</td>\n      <td>M</td>\n      <td>92</td>\n      <td>123-456-7890</td>\n      <td>456 Elm St, Town</td>\n    </tr>\n    <tr>\n      <th>2</th>\n      <td>3</td>\n      <td>Charlie</td>\n      <td>22.0</td>\n      <td>M</td>\n      <td>NaN</td>\n      <td>123-456-7890</td>\n      <td>789 Oak St, Village</td>\n    </tr>\n    <tr>\n      <th>3</th>\n      <td>4</td>\n      <td>David</td>\n      <td>NaN</td>\n      <td>M</td>\n      <td>78</td>\n      <td>123-456-7890</td>\n      <td>101 Maple Ave, City</td>\n    </tr>\n    <tr>\n      <th>4</th>\n      <td>5</td>\n      <td>Eve</td>\n      <td>19.0</td>\n      <td>F</td>\n      <td>110</td>\n      <td>123-456-7890</td>\n      <td>202 Pine St, Town</td>\n    </tr>\n    <tr>\n      <th>5</th>\n      <td>6</td>\n      <td>Frank</td>\n      <td>NaN</td>\n      <td>M</td>\n      <td>65</td>\n      <td>123-456-7890</td>\n      <td>303 Cedar Rd, Village</td>\n    </tr>\n    <tr>\n      <th>6</th>\n      <td>7</td>\n      <td>Grace</td>\n      <td>21.0</td>\n      <td>F</td>\n      <td>N/A</td>\n      <td>123-456-7890</td>\n      <td>404 Birch Ln, City</td>\n    </tr>\n    <tr>\n      <th>7</th>\n      <td>8</td>\n      <td>Hannah</td>\n      <td>NaN</td>\n      <td>F</td>\n      <td>89</td>\n      <td>123-456-7890</td>\n      <td>505 Walnut St, Town</td>\n    </tr>\n  </tbody>\n</table>\n</div>"
     },
     "execution_count": 8,
     "metadata": {},
     "output_type": "execute_result"
    }
   ],
   "source": [
    "def clean_age(age):\n",
    "    if isinstance(age, (int, float)):\n",
    "        return age if 0 < age <= 120 else np.nan\n",
    "    if isinstance(age, str) and age.isdigit():\n",
    "        age = int(age)\n",
    "        return age if 0 < age <= 120 else np.nan\n",
    "    return np.nan\n",
    "\n",
    "data.loc[:, 'Age'] = data['Age'].apply(clean_age)\n",
    "data"
   ]
  },
  {
   "cell_type": "markdown",
   "source": [
    "**Fixing \"Age\" Column**"
   ],
   "metadata": {
    "collapsed": false
   },
   "id": "f6fca5fc05b6041f"
  },
  {
   "cell_type": "code",
   "execution_count": 9,
   "id": "b8e477c04e97ac12",
   "metadata": {
    "collapsed": false,
    "ExecuteTime": {
     "end_time": "2025-03-03T14:43:51.657085500Z",
     "start_time": "2025-03-03T14:43:49.647716800Z"
    }
   },
   "outputs": [
    {
     "data": {
      "text/plain": "   ID     Name   Age Gender Score         Phone                Address\n0   1    Alice  20.0      F  85.0  123-456-7890      123 Main St, City\n1   2      Bob  22.0      M  92.0  123-456-7890       456 Elm St, Town\n2   3  Charlie  22.0      M   NaN  123-456-7890    789 Oak St, Village\n3   4    David   NaN      M  78.0  123-456-7890    101 Maple Ave, City\n4   5      Eve  19.0      F   NaN  123-456-7890      202 Pine St, Town\n5   6    Frank   NaN      M  65.0  123-456-7890  303 Cedar Rd, Village\n6   7    Grace  21.0      F   NaN  123-456-7890     404 Birch Ln, City\n7   8   Hannah   NaN      F  89.0  123-456-7890    505 Walnut St, Town",
      "text/html": "<div>\n<style scoped>\n    .dataframe tbody tr th:only-of-type {\n        vertical-align: middle;\n    }\n\n    .dataframe tbody tr th {\n        vertical-align: top;\n    }\n\n    .dataframe thead th {\n        text-align: right;\n    }\n</style>\n<table border=\"1\" class=\"dataframe\">\n  <thead>\n    <tr style=\"text-align: right;\">\n      <th></th>\n      <th>ID</th>\n      <th>Name</th>\n      <th>Age</th>\n      <th>Gender</th>\n      <th>Score</th>\n      <th>Phone</th>\n      <th>Address</th>\n    </tr>\n  </thead>\n  <tbody>\n    <tr>\n      <th>0</th>\n      <td>1</td>\n      <td>Alice</td>\n      <td>20.0</td>\n      <td>F</td>\n      <td>85.0</td>\n      <td>123-456-7890</td>\n      <td>123 Main St, City</td>\n    </tr>\n    <tr>\n      <th>1</th>\n      <td>2</td>\n      <td>Bob</td>\n      <td>22.0</td>\n      <td>M</td>\n      <td>92.0</td>\n      <td>123-456-7890</td>\n      <td>456 Elm St, Town</td>\n    </tr>\n    <tr>\n      <th>2</th>\n      <td>3</td>\n      <td>Charlie</td>\n      <td>22.0</td>\n      <td>M</td>\n      <td>NaN</td>\n      <td>123-456-7890</td>\n      <td>789 Oak St, Village</td>\n    </tr>\n    <tr>\n      <th>3</th>\n      <td>4</td>\n      <td>David</td>\n      <td>NaN</td>\n      <td>M</td>\n      <td>78.0</td>\n      <td>123-456-7890</td>\n      <td>101 Maple Ave, City</td>\n    </tr>\n    <tr>\n      <th>4</th>\n      <td>5</td>\n      <td>Eve</td>\n      <td>19.0</td>\n      <td>F</td>\n      <td>NaN</td>\n      <td>123-456-7890</td>\n      <td>202 Pine St, Town</td>\n    </tr>\n    <tr>\n      <th>5</th>\n      <td>6</td>\n      <td>Frank</td>\n      <td>NaN</td>\n      <td>M</td>\n      <td>65.0</td>\n      <td>123-456-7890</td>\n      <td>303 Cedar Rd, Village</td>\n    </tr>\n    <tr>\n      <th>6</th>\n      <td>7</td>\n      <td>Grace</td>\n      <td>21.0</td>\n      <td>F</td>\n      <td>NaN</td>\n      <td>123-456-7890</td>\n      <td>404 Birch Ln, City</td>\n    </tr>\n    <tr>\n      <th>7</th>\n      <td>8</td>\n      <td>Hannah</td>\n      <td>NaN</td>\n      <td>F</td>\n      <td>89.0</td>\n      <td>123-456-7890</td>\n      <td>505 Walnut St, Town</td>\n    </tr>\n  </tbody>\n</table>\n</div>"
     },
     "execution_count": 9,
     "metadata": {},
     "output_type": "execute_result"
    }
   ],
   "source": [
    "def clean_score(score):\n",
    "    if isinstance(score, (int, float)):\n",
    "        return score if 0 <= score <= 100 else np.nan\n",
    "    if isinstance(score, str) and score.isdigit():\n",
    "        score = int(score)\n",
    "        return score if 0 <= score <= 100 else np.nan\n",
    "    if isinstance(score, str) and score.upper() == 'N/A':\n",
    "        return np.nan\n",
    "    return np.nan\n",
    "\n",
    "data.loc[:, 'Score'] = data['Score'].apply(clean_score)\n",
    "data"
   ]
  },
  {
   "cell_type": "markdown",
   "id": "e106d88cf168d49d",
   "metadata": {
    "collapsed": false
   },
   "source": [
    "# Pandas Basics"
   ]
  },
  {
   "cell_type": "code",
   "execution_count": 10,
   "outputs": [],
   "source": [
    "df = sns.load_dataset(\"taxis\")"
   ],
   "metadata": {
    "collapsed": false,
    "ExecuteTime": {
     "end_time": "2025-03-03T14:43:52.885588500Z",
     "start_time": "2025-03-03T14:43:49.671018500Z"
    }
   },
   "id": "93d90fbe2f3470b0"
  },
  {
   "cell_type": "code",
   "execution_count": 11,
   "id": "c9a1baa034ae8baf",
   "metadata": {
    "collapsed": false,
    "ExecuteTime": {
     "end_time": "2025-03-03T14:43:52.886692800Z",
     "start_time": "2025-03-03T14:43:49.821685100Z"
    }
   },
   "outputs": [
    {
     "data": {
      "text/plain": "0       YELLOW\n1       YELLOW\n2       YELLOW\n3       YELLOW\n4       YELLOW\n         ...  \n6428     GREEN\n6429     GREEN\n6430     GREEN\n6431     GREEN\n6432     GREEN\nName: color, Length: 6433, dtype: object"
     },
     "execution_count": 11,
     "metadata": {},
     "output_type": "execute_result"
    }
   ],
   "source": [
    "df[\"color\"].str.upper()"
   ]
  },
  {
   "cell_type": "code",
   "execution_count": 12,
   "id": "efa406fb8f218ccb",
   "metadata": {
    "collapsed": false,
    "ExecuteTime": {
     "end_time": "2025-03-03T14:43:52.887226300Z",
     "start_time": "2025-03-03T14:43:49.834940700Z"
    }
   },
   "outputs": [
    {
     "data": {
      "text/plain": "                         pickup             dropoff  passengers  distance  \\\nIndex: 0    2019-03-23 20:21:09 2019-03-23 20:27:24           1      1.60   \nIndex: 1    2019-03-04 16:11:55 2019-03-04 16:19:00           1      0.79   \nIndex: 2    2019-03-27 17:53:01 2019-03-27 18:00:25           1      1.37   \nIndex: 3    2019-03-10 01:23:59 2019-03-10 01:49:51           1      7.70   \nIndex: 4    2019-03-30 13:27:42 2019-03-30 13:37:14           3      2.16   \n...                         ...                 ...         ...       ...   \nIndex: 6428 2019-03-31 09:51:53 2019-03-31 09:55:27           1      0.75   \nIndex: 6429 2019-03-31 17:38:00 2019-03-31 18:34:23           1     18.74   \nIndex: 6430 2019-03-23 22:55:18 2019-03-23 23:14:25           1      4.14   \nIndex: 6431 2019-03-04 10:09:25 2019-03-04 10:14:29           1      1.12   \nIndex: 6432 2019-03-13 19:31:22 2019-03-13 19:48:02           1      3.85   \n\n             fare   tip  tolls  total   color      payment  \\\nIndex: 0      7.0  2.15    0.0  12.95  yellow  credit card   \nIndex: 1      5.0  0.00    0.0   9.30  yellow         cash   \nIndex: 2      7.5  2.36    0.0  14.16  yellow  credit card   \nIndex: 3     27.0  6.15    0.0  36.95  yellow  credit card   \nIndex: 4      9.0  1.10    0.0  13.40  yellow  credit card   \n...           ...   ...    ...    ...     ...          ...   \nIndex: 6428   4.5  1.06    0.0   6.36   green  credit card   \nIndex: 6429  58.0  0.00    0.0  58.80   green  credit card   \nIndex: 6430  16.0  0.00    0.0  17.30   green         cash   \nIndex: 6431   6.0  0.00    0.0   6.80   green  credit card   \nIndex: 6432  15.0  3.36    0.0  20.16   green  credit card   \n\n                       pickup_zone                      dropoff_zone  \\\nIndex: 0           Lenox Hill West               UN/Turtle Bay South   \nIndex: 1     Upper West Side South             Upper West Side South   \nIndex: 2             Alphabet City                      West Village   \nIndex: 3                 Hudson Sq                    Yorkville West   \nIndex: 4              Midtown East                    Yorkville West   \n...                            ...                               ...   \nIndex: 6428      East Harlem North              Central Harlem North   \nIndex: 6429                Jamaica  East Concourse/Concourse Village   \nIndex: 6430    Crown Heights North                    Bushwick North   \nIndex: 6431          East New York      East Flatbush/Remsen Village   \nIndex: 6432            Boerum Hill                   Windsor Terrace   \n\n            pickup_borough dropoff_borough  \nIndex: 0         Manhattan       Manhattan  \nIndex: 1         Manhattan       Manhattan  \nIndex: 2         Manhattan       Manhattan  \nIndex: 3         Manhattan       Manhattan  \nIndex: 4         Manhattan       Manhattan  \n...                    ...             ...  \nIndex: 6428      Manhattan       Manhattan  \nIndex: 6429         Queens           Bronx  \nIndex: 6430       Brooklyn        Brooklyn  \nIndex: 6431       Brooklyn        Brooklyn  \nIndex: 6432       Brooklyn        Brooklyn  \n\n[6433 rows x 14 columns]",
      "text/html": "<div>\n<style scoped>\n    .dataframe tbody tr th:only-of-type {\n        vertical-align: middle;\n    }\n\n    .dataframe tbody tr th {\n        vertical-align: top;\n    }\n\n    .dataframe thead th {\n        text-align: right;\n    }\n</style>\n<table border=\"1\" class=\"dataframe\">\n  <thead>\n    <tr style=\"text-align: right;\">\n      <th></th>\n      <th>pickup</th>\n      <th>dropoff</th>\n      <th>passengers</th>\n      <th>distance</th>\n      <th>fare</th>\n      <th>tip</th>\n      <th>tolls</th>\n      <th>total</th>\n      <th>color</th>\n      <th>payment</th>\n      <th>pickup_zone</th>\n      <th>dropoff_zone</th>\n      <th>pickup_borough</th>\n      <th>dropoff_borough</th>\n    </tr>\n  </thead>\n  <tbody>\n    <tr>\n      <th>Index: 0</th>\n      <td>2019-03-23 20:21:09</td>\n      <td>2019-03-23 20:27:24</td>\n      <td>1</td>\n      <td>1.60</td>\n      <td>7.0</td>\n      <td>2.15</td>\n      <td>0.0</td>\n      <td>12.95</td>\n      <td>yellow</td>\n      <td>credit card</td>\n      <td>Lenox Hill West</td>\n      <td>UN/Turtle Bay South</td>\n      <td>Manhattan</td>\n      <td>Manhattan</td>\n    </tr>\n    <tr>\n      <th>Index: 1</th>\n      <td>2019-03-04 16:11:55</td>\n      <td>2019-03-04 16:19:00</td>\n      <td>1</td>\n      <td>0.79</td>\n      <td>5.0</td>\n      <td>0.00</td>\n      <td>0.0</td>\n      <td>9.30</td>\n      <td>yellow</td>\n      <td>cash</td>\n      <td>Upper West Side South</td>\n      <td>Upper West Side South</td>\n      <td>Manhattan</td>\n      <td>Manhattan</td>\n    </tr>\n    <tr>\n      <th>Index: 2</th>\n      <td>2019-03-27 17:53:01</td>\n      <td>2019-03-27 18:00:25</td>\n      <td>1</td>\n      <td>1.37</td>\n      <td>7.5</td>\n      <td>2.36</td>\n      <td>0.0</td>\n      <td>14.16</td>\n      <td>yellow</td>\n      <td>credit card</td>\n      <td>Alphabet City</td>\n      <td>West Village</td>\n      <td>Manhattan</td>\n      <td>Manhattan</td>\n    </tr>\n    <tr>\n      <th>Index: 3</th>\n      <td>2019-03-10 01:23:59</td>\n      <td>2019-03-10 01:49:51</td>\n      <td>1</td>\n      <td>7.70</td>\n      <td>27.0</td>\n      <td>6.15</td>\n      <td>0.0</td>\n      <td>36.95</td>\n      <td>yellow</td>\n      <td>credit card</td>\n      <td>Hudson Sq</td>\n      <td>Yorkville West</td>\n      <td>Manhattan</td>\n      <td>Manhattan</td>\n    </tr>\n    <tr>\n      <th>Index: 4</th>\n      <td>2019-03-30 13:27:42</td>\n      <td>2019-03-30 13:37:14</td>\n      <td>3</td>\n      <td>2.16</td>\n      <td>9.0</td>\n      <td>1.10</td>\n      <td>0.0</td>\n      <td>13.40</td>\n      <td>yellow</td>\n      <td>credit card</td>\n      <td>Midtown East</td>\n      <td>Yorkville West</td>\n      <td>Manhattan</td>\n      <td>Manhattan</td>\n    </tr>\n    <tr>\n      <th>...</th>\n      <td>...</td>\n      <td>...</td>\n      <td>...</td>\n      <td>...</td>\n      <td>...</td>\n      <td>...</td>\n      <td>...</td>\n      <td>...</td>\n      <td>...</td>\n      <td>...</td>\n      <td>...</td>\n      <td>...</td>\n      <td>...</td>\n      <td>...</td>\n    </tr>\n    <tr>\n      <th>Index: 6428</th>\n      <td>2019-03-31 09:51:53</td>\n      <td>2019-03-31 09:55:27</td>\n      <td>1</td>\n      <td>0.75</td>\n      <td>4.5</td>\n      <td>1.06</td>\n      <td>0.0</td>\n      <td>6.36</td>\n      <td>green</td>\n      <td>credit card</td>\n      <td>East Harlem North</td>\n      <td>Central Harlem North</td>\n      <td>Manhattan</td>\n      <td>Manhattan</td>\n    </tr>\n    <tr>\n      <th>Index: 6429</th>\n      <td>2019-03-31 17:38:00</td>\n      <td>2019-03-31 18:34:23</td>\n      <td>1</td>\n      <td>18.74</td>\n      <td>58.0</td>\n      <td>0.00</td>\n      <td>0.0</td>\n      <td>58.80</td>\n      <td>green</td>\n      <td>credit card</td>\n      <td>Jamaica</td>\n      <td>East Concourse/Concourse Village</td>\n      <td>Queens</td>\n      <td>Bronx</td>\n    </tr>\n    <tr>\n      <th>Index: 6430</th>\n      <td>2019-03-23 22:55:18</td>\n      <td>2019-03-23 23:14:25</td>\n      <td>1</td>\n      <td>4.14</td>\n      <td>16.0</td>\n      <td>0.00</td>\n      <td>0.0</td>\n      <td>17.30</td>\n      <td>green</td>\n      <td>cash</td>\n      <td>Crown Heights North</td>\n      <td>Bushwick North</td>\n      <td>Brooklyn</td>\n      <td>Brooklyn</td>\n    </tr>\n    <tr>\n      <th>Index: 6431</th>\n      <td>2019-03-04 10:09:25</td>\n      <td>2019-03-04 10:14:29</td>\n      <td>1</td>\n      <td>1.12</td>\n      <td>6.0</td>\n      <td>0.00</td>\n      <td>0.0</td>\n      <td>6.80</td>\n      <td>green</td>\n      <td>credit card</td>\n      <td>East New York</td>\n      <td>East Flatbush/Remsen Village</td>\n      <td>Brooklyn</td>\n      <td>Brooklyn</td>\n    </tr>\n    <tr>\n      <th>Index: 6432</th>\n      <td>2019-03-13 19:31:22</td>\n      <td>2019-03-13 19:48:02</td>\n      <td>1</td>\n      <td>3.85</td>\n      <td>15.0</td>\n      <td>3.36</td>\n      <td>0.0</td>\n      <td>20.16</td>\n      <td>green</td>\n      <td>credit card</td>\n      <td>Boerum Hill</td>\n      <td>Windsor Terrace</td>\n      <td>Brooklyn</td>\n      <td>Brooklyn</td>\n    </tr>\n  </tbody>\n</table>\n<p>6433 rows × 14 columns</p>\n</div>"
     },
     "execution_count": 12,
     "metadata": {},
     "output_type": "execute_result"
    }
   ],
   "source": [
    "df.index = [\"Index: \" + str(i) for i in range(df.shape[0])]\n",
    "df"
   ]
  },
  {
   "cell_type": "code",
   "execution_count": 13,
   "id": "b4d64d3651bbe4fc",
   "metadata": {
    "collapsed": false,
    "ExecuteTime": {
     "end_time": "2025-03-03T14:43:52.888268100Z",
     "start_time": "2025-03-03T14:43:49.871207300Z"
    }
   },
   "outputs": [
    {
     "data": {
      "text/plain": "pickup             2019-03-10 01:23:59\ndropoff            2019-03-10 01:49:51\npassengers                           1\ndistance                           7.7\nfare                              27.0\ntip                               6.15\ntolls                              0.0\ntotal                            36.95\ncolor                           yellow\npayment                    credit card\npickup_zone                  Hudson Sq\ndropoff_zone            Yorkville West\npickup_borough               Manhattan\ndropoff_borough              Manhattan\nName: Index: 3, dtype: object"
     },
     "execution_count": 13,
     "metadata": {},
     "output_type": "execute_result"
    }
   ],
   "source": [
    "df.loc[\"Index: 3\"]"
   ]
  },
  {
   "cell_type": "code",
   "execution_count": 14,
   "id": "fa183d185bb01bd4",
   "metadata": {
    "collapsed": false,
    "ExecuteTime": {
     "end_time": "2025-03-03T14:43:52.888268100Z",
     "start_time": "2025-03-03T14:43:49.885863600Z"
    }
   },
   "outputs": [
    {
     "data": {
      "text/plain": "pickup             2019-03-10 01:23:59\ndropoff            2019-03-10 01:49:51\npassengers                           1\ndistance                           7.7\nfare                              27.0\ntip                               6.15\ntolls                              0.0\ntotal                            36.95\ncolor                           yellow\npayment                    credit card\npickup_zone                  Hudson Sq\ndropoff_zone            Yorkville West\npickup_borough               Manhattan\ndropoff_borough              Manhattan\nName: Index: 3, dtype: object"
     },
     "execution_count": 14,
     "metadata": {},
     "output_type": "execute_result"
    }
   ],
   "source": [
    "df.iloc[3]"
   ]
  },
  {
   "cell_type": "code",
   "execution_count": 15,
   "id": "2b24fd98b531b911",
   "metadata": {
    "collapsed": false,
    "ExecuteTime": {
     "end_time": "2025-03-03T14:43:52.889890800Z",
     "start_time": "2025-03-03T14:43:49.896494200Z"
    }
   },
   "outputs": [
    {
     "data": {
      "text/plain": "                      pickup             dropoff  passengers  distance  fare  \\\nIndex: 3 2019-03-10 01:23:59 2019-03-10 01:49:51           1      7.70  27.0   \nIndex: 4 2019-03-30 13:27:42 2019-03-30 13:37:14           3      2.16   9.0   \nIndex: 5 2019-03-11 10:37:23 2019-03-11 10:47:31           1      0.49   7.5   \nIndex: 6 2019-03-26 21:07:31 2019-03-26 21:17:29           1      3.65  13.0   \nIndex: 7 2019-03-22 12:47:13 2019-03-22 12:58:17           0      1.40   8.5   \n\n           tip  tolls  total   color      payment                pickup_zone  \\\nIndex: 3  6.15    0.0  36.95  yellow  credit card                  Hudson Sq   \nIndex: 4  1.10    0.0  13.40  yellow  credit card               Midtown East   \nIndex: 5  2.16    0.0  12.96  yellow  credit card  Times Sq/Theatre District   \nIndex: 6  2.00    0.0  18.80  yellow  credit card          Battery Park City   \nIndex: 7  0.00    0.0  11.80  yellow          NaN                Murray Hill   \n\n                     dropoff_zone pickup_borough dropoff_borough  \nIndex: 3           Yorkville West      Manhattan       Manhattan  \nIndex: 4           Yorkville West      Manhattan       Manhattan  \nIndex: 5             Midtown East      Manhattan       Manhattan  \nIndex: 6  Two Bridges/Seward Park      Manhattan       Manhattan  \nIndex: 7                 Flatiron      Manhattan       Manhattan  ",
      "text/html": "<div>\n<style scoped>\n    .dataframe tbody tr th:only-of-type {\n        vertical-align: middle;\n    }\n\n    .dataframe tbody tr th {\n        vertical-align: top;\n    }\n\n    .dataframe thead th {\n        text-align: right;\n    }\n</style>\n<table border=\"1\" class=\"dataframe\">\n  <thead>\n    <tr style=\"text-align: right;\">\n      <th></th>\n      <th>pickup</th>\n      <th>dropoff</th>\n      <th>passengers</th>\n      <th>distance</th>\n      <th>fare</th>\n      <th>tip</th>\n      <th>tolls</th>\n      <th>total</th>\n      <th>color</th>\n      <th>payment</th>\n      <th>pickup_zone</th>\n      <th>dropoff_zone</th>\n      <th>pickup_borough</th>\n      <th>dropoff_borough</th>\n    </tr>\n  </thead>\n  <tbody>\n    <tr>\n      <th>Index: 3</th>\n      <td>2019-03-10 01:23:59</td>\n      <td>2019-03-10 01:49:51</td>\n      <td>1</td>\n      <td>7.70</td>\n      <td>27.0</td>\n      <td>6.15</td>\n      <td>0.0</td>\n      <td>36.95</td>\n      <td>yellow</td>\n      <td>credit card</td>\n      <td>Hudson Sq</td>\n      <td>Yorkville West</td>\n      <td>Manhattan</td>\n      <td>Manhattan</td>\n    </tr>\n    <tr>\n      <th>Index: 4</th>\n      <td>2019-03-30 13:27:42</td>\n      <td>2019-03-30 13:37:14</td>\n      <td>3</td>\n      <td>2.16</td>\n      <td>9.0</td>\n      <td>1.10</td>\n      <td>0.0</td>\n      <td>13.40</td>\n      <td>yellow</td>\n      <td>credit card</td>\n      <td>Midtown East</td>\n      <td>Yorkville West</td>\n      <td>Manhattan</td>\n      <td>Manhattan</td>\n    </tr>\n    <tr>\n      <th>Index: 5</th>\n      <td>2019-03-11 10:37:23</td>\n      <td>2019-03-11 10:47:31</td>\n      <td>1</td>\n      <td>0.49</td>\n      <td>7.5</td>\n      <td>2.16</td>\n      <td>0.0</td>\n      <td>12.96</td>\n      <td>yellow</td>\n      <td>credit card</td>\n      <td>Times Sq/Theatre District</td>\n      <td>Midtown East</td>\n      <td>Manhattan</td>\n      <td>Manhattan</td>\n    </tr>\n    <tr>\n      <th>Index: 6</th>\n      <td>2019-03-26 21:07:31</td>\n      <td>2019-03-26 21:17:29</td>\n      <td>1</td>\n      <td>3.65</td>\n      <td>13.0</td>\n      <td>2.00</td>\n      <td>0.0</td>\n      <td>18.80</td>\n      <td>yellow</td>\n      <td>credit card</td>\n      <td>Battery Park City</td>\n      <td>Two Bridges/Seward Park</td>\n      <td>Manhattan</td>\n      <td>Manhattan</td>\n    </tr>\n    <tr>\n      <th>Index: 7</th>\n      <td>2019-03-22 12:47:13</td>\n      <td>2019-03-22 12:58:17</td>\n      <td>0</td>\n      <td>1.40</td>\n      <td>8.5</td>\n      <td>0.00</td>\n      <td>0.0</td>\n      <td>11.80</td>\n      <td>yellow</td>\n      <td>NaN</td>\n      <td>Murray Hill</td>\n      <td>Flatiron</td>\n      <td>Manhattan</td>\n      <td>Manhattan</td>\n    </tr>\n  </tbody>\n</table>\n</div>"
     },
     "execution_count": 15,
     "metadata": {},
     "output_type": "execute_result"
    }
   ],
   "source": [
    "df.iloc[3:8]"
   ]
  },
  {
   "cell_type": "code",
   "execution_count": 16,
   "id": "b4fad23111a4be1c",
   "metadata": {
    "collapsed": false,
    "ExecuteTime": {
     "end_time": "2025-03-03T14:43:52.890933400Z",
     "start_time": "2025-03-03T14:43:49.924194300Z"
    }
   },
   "outputs": [
    {
     "data": {
      "text/plain": "                      pickup             dropoff  passengers  distance  fare  \\\nIndex: 3 2019-03-10 01:23:59 2019-03-10 01:49:51           1      7.70  27.0   \nIndex: 4 2019-03-30 13:27:42 2019-03-30 13:37:14           3      2.16   9.0   \nIndex: 5 2019-03-11 10:37:23 2019-03-11 10:47:31           1      0.49   7.5   \nIndex: 6 2019-03-26 21:07:31 2019-03-26 21:17:29           1      3.65  13.0   \nIndex: 7 2019-03-22 12:47:13 2019-03-22 12:58:17           0      1.40   8.5   \nIndex: 8 2019-03-23 11:48:50 2019-03-23 12:06:14           1      3.63  15.0   \n\n           tip  tolls  total   color      payment                pickup_zone  \\\nIndex: 3  6.15    0.0  36.95  yellow  credit card                  Hudson Sq   \nIndex: 4  1.10    0.0  13.40  yellow  credit card               Midtown East   \nIndex: 5  2.16    0.0  12.96  yellow  credit card  Times Sq/Theatre District   \nIndex: 6  2.00    0.0  18.80  yellow  credit card          Battery Park City   \nIndex: 7  0.00    0.0  11.80  yellow          NaN                Murray Hill   \nIndex: 8  1.00    0.0  19.30  yellow  credit card          East Harlem South   \n\n                     dropoff_zone pickup_borough dropoff_borough  \nIndex: 3           Yorkville West      Manhattan       Manhattan  \nIndex: 4           Yorkville West      Manhattan       Manhattan  \nIndex: 5             Midtown East      Manhattan       Manhattan  \nIndex: 6  Two Bridges/Seward Park      Manhattan       Manhattan  \nIndex: 7                 Flatiron      Manhattan       Manhattan  \nIndex: 8           Midtown Center      Manhattan       Manhattan  ",
      "text/html": "<div>\n<style scoped>\n    .dataframe tbody tr th:only-of-type {\n        vertical-align: middle;\n    }\n\n    .dataframe tbody tr th {\n        vertical-align: top;\n    }\n\n    .dataframe thead th {\n        text-align: right;\n    }\n</style>\n<table border=\"1\" class=\"dataframe\">\n  <thead>\n    <tr style=\"text-align: right;\">\n      <th></th>\n      <th>pickup</th>\n      <th>dropoff</th>\n      <th>passengers</th>\n      <th>distance</th>\n      <th>fare</th>\n      <th>tip</th>\n      <th>tolls</th>\n      <th>total</th>\n      <th>color</th>\n      <th>payment</th>\n      <th>pickup_zone</th>\n      <th>dropoff_zone</th>\n      <th>pickup_borough</th>\n      <th>dropoff_borough</th>\n    </tr>\n  </thead>\n  <tbody>\n    <tr>\n      <th>Index: 3</th>\n      <td>2019-03-10 01:23:59</td>\n      <td>2019-03-10 01:49:51</td>\n      <td>1</td>\n      <td>7.70</td>\n      <td>27.0</td>\n      <td>6.15</td>\n      <td>0.0</td>\n      <td>36.95</td>\n      <td>yellow</td>\n      <td>credit card</td>\n      <td>Hudson Sq</td>\n      <td>Yorkville West</td>\n      <td>Manhattan</td>\n      <td>Manhattan</td>\n    </tr>\n    <tr>\n      <th>Index: 4</th>\n      <td>2019-03-30 13:27:42</td>\n      <td>2019-03-30 13:37:14</td>\n      <td>3</td>\n      <td>2.16</td>\n      <td>9.0</td>\n      <td>1.10</td>\n      <td>0.0</td>\n      <td>13.40</td>\n      <td>yellow</td>\n      <td>credit card</td>\n      <td>Midtown East</td>\n      <td>Yorkville West</td>\n      <td>Manhattan</td>\n      <td>Manhattan</td>\n    </tr>\n    <tr>\n      <th>Index: 5</th>\n      <td>2019-03-11 10:37:23</td>\n      <td>2019-03-11 10:47:31</td>\n      <td>1</td>\n      <td>0.49</td>\n      <td>7.5</td>\n      <td>2.16</td>\n      <td>0.0</td>\n      <td>12.96</td>\n      <td>yellow</td>\n      <td>credit card</td>\n      <td>Times Sq/Theatre District</td>\n      <td>Midtown East</td>\n      <td>Manhattan</td>\n      <td>Manhattan</td>\n    </tr>\n    <tr>\n      <th>Index: 6</th>\n      <td>2019-03-26 21:07:31</td>\n      <td>2019-03-26 21:17:29</td>\n      <td>1</td>\n      <td>3.65</td>\n      <td>13.0</td>\n      <td>2.00</td>\n      <td>0.0</td>\n      <td>18.80</td>\n      <td>yellow</td>\n      <td>credit card</td>\n      <td>Battery Park City</td>\n      <td>Two Bridges/Seward Park</td>\n      <td>Manhattan</td>\n      <td>Manhattan</td>\n    </tr>\n    <tr>\n      <th>Index: 7</th>\n      <td>2019-03-22 12:47:13</td>\n      <td>2019-03-22 12:58:17</td>\n      <td>0</td>\n      <td>1.40</td>\n      <td>8.5</td>\n      <td>0.00</td>\n      <td>0.0</td>\n      <td>11.80</td>\n      <td>yellow</td>\n      <td>NaN</td>\n      <td>Murray Hill</td>\n      <td>Flatiron</td>\n      <td>Manhattan</td>\n      <td>Manhattan</td>\n    </tr>\n    <tr>\n      <th>Index: 8</th>\n      <td>2019-03-23 11:48:50</td>\n      <td>2019-03-23 12:06:14</td>\n      <td>1</td>\n      <td>3.63</td>\n      <td>15.0</td>\n      <td>1.00</td>\n      <td>0.0</td>\n      <td>19.30</td>\n      <td>yellow</td>\n      <td>credit card</td>\n      <td>East Harlem South</td>\n      <td>Midtown Center</td>\n      <td>Manhattan</td>\n      <td>Manhattan</td>\n    </tr>\n  </tbody>\n</table>\n</div>"
     },
     "execution_count": 16,
     "metadata": {},
     "output_type": "execute_result"
    }
   ],
   "source": [
    "df.loc[\"Index: 3\":\"Index: 8\"]"
   ]
  },
  {
   "cell_type": "code",
   "execution_count": 17,
   "id": "269b6a10880f5614",
   "metadata": {
    "collapsed": false,
    "ExecuteTime": {
     "end_time": "2025-03-03T14:43:52.908489300Z",
     "start_time": "2025-03-03T14:43:49.953238600Z"
    }
   },
   "outputs": [
    {
     "data": {
      "text/plain": "                      pickup             dropoff  passengers  distance  fare  \\\nIndex: 3 2019-03-10 01:23:59 2019-03-10 01:49:51           1      7.70  27.0   \nIndex: 5 2019-03-11 10:37:23 2019-03-11 10:47:31           1      0.49   7.5   \n\n           tip  tolls  total   color      payment                pickup_zone  \\\nIndex: 3  6.15    0.0  36.95  yellow  credit card                  Hudson Sq   \nIndex: 5  2.16    0.0  12.96  yellow  credit card  Times Sq/Theatre District   \n\n            dropoff_zone pickup_borough dropoff_borough  \nIndex: 3  Yorkville West      Manhattan       Manhattan  \nIndex: 5    Midtown East      Manhattan       Manhattan  ",
      "text/html": "<div>\n<style scoped>\n    .dataframe tbody tr th:only-of-type {\n        vertical-align: middle;\n    }\n\n    .dataframe tbody tr th {\n        vertical-align: top;\n    }\n\n    .dataframe thead th {\n        text-align: right;\n    }\n</style>\n<table border=\"1\" class=\"dataframe\">\n  <thead>\n    <tr style=\"text-align: right;\">\n      <th></th>\n      <th>pickup</th>\n      <th>dropoff</th>\n      <th>passengers</th>\n      <th>distance</th>\n      <th>fare</th>\n      <th>tip</th>\n      <th>tolls</th>\n      <th>total</th>\n      <th>color</th>\n      <th>payment</th>\n      <th>pickup_zone</th>\n      <th>dropoff_zone</th>\n      <th>pickup_borough</th>\n      <th>dropoff_borough</th>\n    </tr>\n  </thead>\n  <tbody>\n    <tr>\n      <th>Index: 3</th>\n      <td>2019-03-10 01:23:59</td>\n      <td>2019-03-10 01:49:51</td>\n      <td>1</td>\n      <td>7.70</td>\n      <td>27.0</td>\n      <td>6.15</td>\n      <td>0.0</td>\n      <td>36.95</td>\n      <td>yellow</td>\n      <td>credit card</td>\n      <td>Hudson Sq</td>\n      <td>Yorkville West</td>\n      <td>Manhattan</td>\n      <td>Manhattan</td>\n    </tr>\n    <tr>\n      <th>Index: 5</th>\n      <td>2019-03-11 10:37:23</td>\n      <td>2019-03-11 10:47:31</td>\n      <td>1</td>\n      <td>0.49</td>\n      <td>7.5</td>\n      <td>2.16</td>\n      <td>0.0</td>\n      <td>12.96</td>\n      <td>yellow</td>\n      <td>credit card</td>\n      <td>Times Sq/Theatre District</td>\n      <td>Midtown East</td>\n      <td>Manhattan</td>\n      <td>Manhattan</td>\n    </tr>\n  </tbody>\n</table>\n</div>"
     },
     "execution_count": 17,
     "metadata": {},
     "output_type": "execute_result"
    }
   ],
   "source": [
    "df.iloc[[3, 5]]"
   ]
  },
  {
   "cell_type": "code",
   "execution_count": 18,
   "id": "1eeed2926b73d4dc",
   "metadata": {
    "collapsed": false,
    "ExecuteTime": {
     "end_time": "2025-03-03T14:43:52.909487700Z",
     "start_time": "2025-03-03T14:43:49.987940Z"
    }
   },
   "outputs": [
    {
     "data": {
      "text/plain": "          passengers   tip\nIndex: 3           1  6.15\nIndex: 4           3  1.10\nIndex: 5           1  2.16\nIndex: 6           1  2.00\nIndex: 7           0  0.00\nIndex: 8           1  1.00",
      "text/html": "<div>\n<style scoped>\n    .dataframe tbody tr th:only-of-type {\n        vertical-align: middle;\n    }\n\n    .dataframe tbody tr th {\n        vertical-align: top;\n    }\n\n    .dataframe thead th {\n        text-align: right;\n    }\n</style>\n<table border=\"1\" class=\"dataframe\">\n  <thead>\n    <tr style=\"text-align: right;\">\n      <th></th>\n      <th>passengers</th>\n      <th>tip</th>\n    </tr>\n  </thead>\n  <tbody>\n    <tr>\n      <th>Index: 3</th>\n      <td>1</td>\n      <td>6.15</td>\n    </tr>\n    <tr>\n      <th>Index: 4</th>\n      <td>3</td>\n      <td>1.10</td>\n    </tr>\n    <tr>\n      <th>Index: 5</th>\n      <td>1</td>\n      <td>2.16</td>\n    </tr>\n    <tr>\n      <th>Index: 6</th>\n      <td>1</td>\n      <td>2.00</td>\n    </tr>\n    <tr>\n      <th>Index: 7</th>\n      <td>0</td>\n      <td>0.00</td>\n    </tr>\n    <tr>\n      <th>Index: 8</th>\n      <td>1</td>\n      <td>1.00</td>\n    </tr>\n  </tbody>\n</table>\n</div>"
     },
     "execution_count": 18,
     "metadata": {},
     "output_type": "execute_result"
    }
   ],
   "source": [
    "df.loc[\"Index: 3\":\"Index: 8\", [\"passengers\", \"tip\"]]"
   ]
  },
  {
   "cell_type": "code",
   "execution_count": 19,
   "id": "5723188ec8278503",
   "metadata": {
    "collapsed": false,
    "ExecuteTime": {
     "end_time": "2025-03-03T14:43:52.909487700Z",
     "start_time": "2025-03-03T14:43:50.006514900Z"
    }
   },
   "outputs": [
    {
     "data": {
      "text/plain": "          distance   tip\nIndex: 3      7.70  6.15\nIndex: 4      2.16  1.10\nIndex: 5      0.49  2.16\nIndex: 6      3.65  2.00",
      "text/html": "<div>\n<style scoped>\n    .dataframe tbody tr th:only-of-type {\n        vertical-align: middle;\n    }\n\n    .dataframe tbody tr th {\n        vertical-align: top;\n    }\n\n    .dataframe thead th {\n        text-align: right;\n    }\n</style>\n<table border=\"1\" class=\"dataframe\">\n  <thead>\n    <tr style=\"text-align: right;\">\n      <th></th>\n      <th>distance</th>\n      <th>tip</th>\n    </tr>\n  </thead>\n  <tbody>\n    <tr>\n      <th>Index: 3</th>\n      <td>7.70</td>\n      <td>6.15</td>\n    </tr>\n    <tr>\n      <th>Index: 4</th>\n      <td>2.16</td>\n      <td>1.10</td>\n    </tr>\n    <tr>\n      <th>Index: 5</th>\n      <td>0.49</td>\n      <td>2.16</td>\n    </tr>\n    <tr>\n      <th>Index: 6</th>\n      <td>3.65</td>\n      <td>2.00</td>\n    </tr>\n  </tbody>\n</table>\n</div>"
     },
     "execution_count": 19,
     "metadata": {},
     "output_type": "execute_result"
    }
   ],
   "source": [
    "df.iloc[3:7, [3, 5]]"
   ]
  },
  {
   "cell_type": "code",
   "execution_count": 20,
   "id": "92c83ea2f04da20f",
   "metadata": {
    "collapsed": false,
    "ExecuteTime": {
     "end_time": "2025-03-03T14:43:52.910488800Z",
     "start_time": "2025-03-03T14:43:50.023083100Z"
    }
   },
   "outputs": [
    {
     "data": {
      "text/plain": "Index: 4     3\nIndex: 15    3\nIndex: 19    6\nIndex: 23    5\nIndex: 24    5\nName: passengers, dtype: int64"
     },
     "execution_count": 20,
     "metadata": {},
     "output_type": "execute_result"
    }
   ],
   "source": [
    "df.passengers[df.passengers > 1].head()"
   ]
  },
  {
   "cell_type": "code",
   "execution_count": 39,
   "outputs": [
    {
     "data": {
      "text/plain": "passengers\n1    4678\n2     876\n5     277\n3     243\n6     153\n4     110\n0      96\nName: count, dtype: int64"
     },
     "execution_count": 39,
     "metadata": {},
     "output_type": "execute_result"
    }
   ],
   "source": [
    "df.passengers.value_counts()"
   ],
   "metadata": {
    "collapsed": false,
    "ExecuteTime": {
     "end_time": "2025-03-03T20:27:06.256922Z",
     "start_time": "2025-03-03T20:27:06.145281300Z"
    }
   },
   "id": "18b9d9c1ed73c11b"
  },
  {
   "cell_type": "code",
   "execution_count": null,
   "outputs": [],
   "source": [
    "df.loc[(df['total'] == df[df['passengers'] == 6]['total'].max())]"
   ],
   "metadata": {
    "collapsed": false,
    "ExecuteTime": {
     "start_time": "2025-03-03T14:43:51.245764900Z"
    }
   },
   "id": "2efec3448c554c89"
  },
  {
   "cell_type": "code",
   "execution_count": null,
   "outputs": [],
   "source": [
    "df.loc[df.passengers == 6, 'total'].max()"
   ],
   "metadata": {
    "collapsed": false,
    "ExecuteTime": {
     "start_time": "2025-03-03T14:43:51.248934800Z"
    }
   },
   "id": "bf14fd0d81a8fbaf"
  },
  {
   "cell_type": "code",
   "execution_count": null,
   "id": "cae70c6cb65e3e17",
   "metadata": {
    "collapsed": false,
    "ExecuteTime": {
     "start_time": "2025-03-03T14:43:51.251028300Z"
    }
   },
   "outputs": [],
   "source": [
    "df.at[\"Index: 3\", \"pickup\"]"
   ]
  },
  {
   "cell_type": "code",
   "execution_count": null,
   "id": "aff58c5240f9c18a",
   "metadata": {
    "collapsed": false,
    "ExecuteTime": {
     "start_time": "2025-03-03T14:43:51.253293Z"
    }
   },
   "outputs": [],
   "source": [
    "df.iat[4, 5]"
   ]
  },
  {
   "cell_type": "code",
   "execution_count": null,
   "id": "37a7c30e84882af0",
   "metadata": {
    "collapsed": false,
    "ExecuteTime": {
     "start_time": "2025-03-03T14:43:51.257139800Z"
    }
   },
   "outputs": [],
   "source": [
    "df.iat[4, 5] = 3\n",
    "df.iat[4, 5]\n"
   ]
  },
  {
   "cell_type": "code",
   "execution_count": null,
   "id": "bc23dbbec8bf2af9",
   "metadata": {
    "collapsed": false,
    "ExecuteTime": {
     "start_time": "2025-03-03T14:43:51.260347200Z"
    }
   },
   "outputs": [],
   "source": [
    "pd.set_option('display.precision', 2)\n",
    "df.describe()"
   ]
  },
  {
   "cell_type": "code",
   "execution_count": null,
   "id": "31460827dc0b0f3e",
   "metadata": {
    "collapsed": false,
    "ExecuteTime": {
     "start_time": "2025-03-03T14:43:51.262815100Z"
    }
   },
   "outputs": [],
   "source": [
    "df.sort_index(ascending=False).passengers.head()"
   ]
  },
  {
   "cell_type": "code",
   "execution_count": null,
   "id": "dc9dcc2ff0a72fda",
   "metadata": {
    "collapsed": false,
    "ExecuteTime": {
     "start_time": "2025-03-03T14:43:51.266099300Z"
    }
   },
   "outputs": [],
   "source": [
    "df.sort_index(axis=1).head()\n"
   ]
  },
  {
   "cell_type": "code",
   "execution_count": null,
   "id": "cd6bd58255728dda",
   "metadata": {
    "collapsed": false,
    "ExecuteTime": {
     "start_time": "2025-03-03T14:43:51.269124200Z"
    }
   },
   "outputs": [],
   "source": [
    "df.sort_values(by=\"fare\", ascending=False)   "
   ]
  },
  {
   "cell_type": "markdown",
   "id": "745c4bbc0efa94b",
   "metadata": {
    "collapsed": false
   },
   "source": []
  },
  {
   "cell_type": "code",
   "execution_count": null,
   "id": "e55bcaf87a5fcf62",
   "metadata": {
    "collapsed": false,
    "ExecuteTime": {
     "start_time": "2025-03-03T14:43:51.272201300Z"
    }
   },
   "outputs": [],
   "source": [
    "df.sort_values(by=\"fare\", ascending=False).fare   \n"
   ]
  },
  {
   "cell_type": "markdown",
   "source": [
    "What row has 3 passengers and the highest tips?"
   ],
   "metadata": {
    "collapsed": false
   },
   "id": "b0a219ca26d1622b"
  },
  {
   "cell_type": "code",
   "execution_count": null,
   "outputs": [],
   "source": [
    "df.loc[(df.passengers == 3)].sort_values(by=\"tip\", ascending=False).head(1)"
   ],
   "metadata": {
    "collapsed": false,
    "ExecuteTime": {
     "start_time": "2025-03-03T14:43:51.275503100Z"
    }
   },
   "id": "c0dfef877280e492"
  },
  {
   "cell_type": "code",
   "execution_count": null,
   "outputs": [],
   "source": [
    "df.loc[df.passengers == 3, 'tip'].max()"
   ],
   "metadata": {
    "collapsed": false,
    "ExecuteTime": {
     "start_time": "2025-03-03T14:43:51.277575300Z"
    }
   },
   "id": "c9b00292fafff189"
  },
  {
   "cell_type": "markdown",
   "source": [
    "What is the most highest tip has green taxi with 1, 2 or 3 passengers?"
   ],
   "metadata": {
    "collapsed": false
   },
   "id": "c1f074c9e279cfd8"
  },
  {
   "cell_type": "code",
   "execution_count": null,
   "outputs": [],
   "source": [
    "df.loc[(df['color'] == 'green') & (df['passengers'].isin([1, 2, 3]))].sort_values('tip', ascending=False).head(1)\n"
   ],
   "metadata": {
    "collapsed": false,
    "ExecuteTime": {
     "start_time": "2025-03-03T14:43:51.280074700Z"
    }
   },
   "id": "34eb3f16f52cd71b"
  },
  {
   "cell_type": "code",
   "execution_count": null,
   "outputs": [],
   "source": [
    "df.loc[(df['color'] == 'green') & (df['passengers'].isin([1, 2, 3])), ['passengers', 'tip', 'distance', 'fare']].sort_values('tip', ascending=False).head(1)"
   ],
   "metadata": {
    "collapsed": false,
    "ExecuteTime": {
     "start_time": "2025-03-03T14:43:51.283558400Z"
    }
   },
   "id": "fdb408bcc576ffa5"
  },
  {
   "cell_type": "code",
   "execution_count": null,
   "outputs": [],
   "source": [
    "sns.boxplot(data=df, x = 'distance')"
   ],
   "metadata": {
    "collapsed": false,
    "ExecuteTime": {
     "start_time": "2025-03-03T14:43:51.286559400Z"
    }
   },
   "id": "87690a8ed9a8e7fa"
  },
  {
   "cell_type": "markdown",
   "id": "cf3e39932ec70d65",
   "metadata": {
    "collapsed": false
   },
   "source": [
    "## 7. Завантажити набір даних катастрофи \"Титаніка\""
   ]
  },
  {
   "cell_type": "code",
   "execution_count": null,
   "id": "867cb487db9745d5",
   "metadata": {
    "collapsed": false,
    "ExecuteTime": {
     "start_time": "2025-03-03T14:43:51.289561900Z"
    }
   },
   "outputs": [],
   "source": [
    "titanic = pd.read_csv('https://vincentarelbundock.github.io/Rdatasets/csv/carData/TitanicSurvival.csv')"
   ]
  },
  {
   "cell_type": "code",
   "execution_count": null,
   "id": "9a24754f9726baff",
   "metadata": {
    "collapsed": false,
    "ExecuteTime": {
     "start_time": "2025-03-03T14:43:51.292560300Z"
    }
   },
   "outputs": [],
   "source": [
    "titanic"
   ]
  },
  {
   "cell_type": "code",
   "execution_count": null,
   "id": "f61561bab94f24c2",
   "metadata": {
    "collapsed": false,
    "ExecuteTime": {
     "start_time": "2025-03-03T14:43:51.295560300Z"
    }
   },
   "outputs": [],
   "source": [
    "sns.countplot(data=titanic, x=\"sex\", hue=\"survived\")\n"
   ]
  },
  {
   "cell_type": "markdown",
   "id": "634ee3964b05681e",
   "metadata": {
    "collapsed": false
   },
   "source": [
    "## 8. Переглянути рядки набору даних катастрофи «Титаніка»"
   ]
  },
  {
   "cell_type": "code",
   "execution_count": null,
   "id": "a03b00f073982140",
   "metadata": {
    "collapsed": false,
    "ExecuteTime": {
     "start_time": "2025-03-03T14:43:51.298558800Z"
    }
   },
   "outputs": [],
   "source": [
    "titanic.head(5)"
   ]
  },
  {
   "cell_type": "code",
   "execution_count": null,
   "id": "1d376a52e5265583",
   "metadata": {
    "collapsed": false,
    "ExecuteTime": {
     "start_time": "2025-03-03T14:43:51.301560100Z"
    }
   },
   "outputs": [],
   "source": [
    "titanic.tail(5)"
   ]
  },
  {
   "cell_type": "markdown",
   "id": "fe1099221f1fbd4c",
   "metadata": {
    "collapsed": false
   },
   "source": [
    "## 9. Налаштувати назви стовпців"
   ]
  },
  {
   "cell_type": "code",
   "execution_count": null,
   "id": "6d3e687f9a09e6df",
   "metadata": {
    "collapsed": false,
    "ExecuteTime": {
     "start_time": "2025-03-03T14:43:51.304555500Z"
    }
   },
   "outputs": [],
   "source": [
    "titanic.columns = [\"name\", \"survived\", 'sex', 'age', 'pclass']"
   ]
  },
  {
   "cell_type": "code",
   "execution_count": null,
   "id": "7d225fb2364580ec",
   "metadata": {
    "collapsed": false,
    "ExecuteTime": {
     "start_time": "2025-03-03T14:43:51.307556300Z"
    }
   },
   "outputs": [],
   "source": [
    "titanic.head()"
   ]
  },
  {
   "cell_type": "code",
   "execution_count": null,
   "id": "c7615734f6da2faa",
   "metadata": {
    "collapsed": false,
    "ExecuteTime": {
     "start_time": "2025-03-03T14:43:51.310605100Z"
    }
   },
   "outputs": [],
   "source": [
    "titanic.sort_values(by=\"age\").head(1)"
   ]
  },
  {
   "cell_type": "code",
   "execution_count": null,
   "id": "fda12961adab8325",
   "metadata": {
    "collapsed": false,
    "ExecuteTime": {
     "start_time": "2025-03-03T14:43:51.312159100Z"
    }
   },
   "outputs": [],
   "source": [
    "titanic.sort_values(by=\"age\", ascending=False).head(1)"
   ]
  },
  {
   "cell_type": "code",
   "execution_count": null,
   "id": "b1c713a8faf5c0d4",
   "metadata": {
    "collapsed": false,
    "ExecuteTime": {
     "start_time": "2025-03-03T14:43:51.315659800Z"
    }
   },
   "outputs": [],
   "source": [
    "titanic[\"age\"].mean()"
   ]
  },
  {
   "cell_type": "code",
   "execution_count": null,
   "id": "411ca19e32d0213c",
   "metadata": {
    "collapsed": false,
    "ExecuteTime": {
     "start_time": "2025-03-03T14:43:51.318657800Z"
    }
   },
   "outputs": [],
   "source": [
    "titanic[titanic[\"survived\"] == \"yes\"].describe()"
   ]
  },
  {
   "cell_type": "code",
   "execution_count": null,
   "id": "7ed576df4739c54b",
   "metadata": {
    "collapsed": false,
    "ExecuteTime": {
     "start_time": "2025-03-03T14:43:51.321671800Z"
    }
   },
   "outputs": [],
   "source": [
    "sorted_female = titanic.sort_values(by=\"age\").loc[(titanic.sex == \"female\") & (pd.notnull(titanic.age)), [\"sex\", \"age\"]]\n",
    "sorted_female"
   ]
  },
  {
   "cell_type": "code",
   "execution_count": null,
   "id": "c5afed71d7a73f0",
   "metadata": {
    "collapsed": false,
    "ExecuteTime": {
     "start_time": "2025-03-03T14:43:51.324323400Z"
    }
   },
   "outputs": [],
   "source": [
    "sorted_female.head(1)"
   ]
  },
  {
   "cell_type": "code",
   "execution_count": null,
   "id": "1dcd8a345c0d7549",
   "metadata": {
    "collapsed": false,
    "ExecuteTime": {
     "start_time": "2025-03-03T14:43:51.326395800Z"
    }
   },
   "outputs": [],
   "source": [
    "sorted_female.tail(1)"
   ]
  },
  {
   "cell_type": "code",
   "execution_count": null,
   "id": "5f16d1d63964ddfc",
   "metadata": {
    "collapsed": false,
    "ExecuteTime": {
     "start_time": "2025-03-03T14:43:51.328388100Z"
    }
   },
   "outputs": [],
   "source": [
    "titanic.sex[(titanic.sex == \"female\") & (titanic.survived == \"yes\")].count()"
   ]
  },
  {
   "cell_type": "markdown",
   "id": "1fa2cf12db7899b0",
   "metadata": {
    "collapsed": false
   },
   "source": [
    "## 11. Побудувати гістограму віку пасажирів"
   ]
  },
  {
   "cell_type": "code",
   "execution_count": null,
   "id": "64e350e77f1192ad",
   "metadata": {
    "collapsed": false,
    "ExecuteTime": {
     "start_time": "2025-03-03T14:43:51.329386Z"
    }
   },
   "outputs": [],
   "source": [
    "sns.histplot(titanic.age)"
   ]
  },
  {
   "cell_type": "code",
   "execution_count": null,
   "id": "d1a6c1e6dae79f25",
   "metadata": {
    "collapsed": false,
    "ExecuteTime": {
     "start_time": "2025-03-03T14:43:51.331880400Z"
    }
   },
   "outputs": [],
   "source": [
    "df"
   ]
  },
  {
   "cell_type": "code",
   "execution_count": null,
   "outputs": [],
   "source": [
    "df.loc[df['passengers'] == 6]"
   ],
   "metadata": {
    "collapsed": false,
    "ExecuteTime": {
     "start_time": "2025-03-03T14:43:51.333426100Z"
    }
   },
   "id": "ac7212c8d953d14d"
  },
  {
   "cell_type": "code",
   "execution_count": null,
   "outputs": [],
   "source": [
    "df.passengers.value_counts().head()"
   ],
   "metadata": {
    "collapsed": false,
    "ExecuteTime": {
     "start_time": "2025-03-03T14:43:51.334486800Z"
    }
   },
   "id": "c6c1ce77a4e7a6bd"
  },
  {
   "cell_type": "code",
   "execution_count": null,
   "outputs": [],
   "source": [
    "df.passengers.loc[df[\"passengers\"] == 6].sample(10)"
   ],
   "metadata": {
    "collapsed": false,
    "ExecuteTime": {
     "start_time": "2025-03-03T14:43:51.337470800Z"
    }
   },
   "id": "2abae8cfcad0d60"
  },
  {
   "cell_type": "code",
   "execution_count": null,
   "outputs": [],
   "source": [
    "df[df['passengers'] == 6].sort_values(by='dropoff_zone')"
   ],
   "metadata": {
    "collapsed": false,
    "ExecuteTime": {
     "start_time": "2025-03-03T14:43:51.340077400Z"
    }
   },
   "id": "d421d2a83579671d"
  },
  {
   "cell_type": "code",
   "execution_count": null,
   "outputs": [],
   "source": [],
   "metadata": {
    "collapsed": false,
    "ExecuteTime": {
     "start_time": "2025-03-03T14:43:51.341637500Z"
    }
   },
   "id": "4aa597813fbfaa9a"
  }
 ],
 "metadata": {
  "kernelspec": {
   "display_name": "Python 3 (ipykernel)",
   "language": "python",
   "name": "python3"
  },
  "language_info": {
   "codemirror_mode": {
    "name": "ipython",
    "version": 3
   },
   "file_extension": ".py",
   "mimetype": "text/x-python",
   "name": "python",
   "nbconvert_exporter": "python",
   "pygments_lexer": "ipython3",
   "version": "3.12.2"
  }
 },
 "nbformat": 4,
 "nbformat_minor": 5
}
