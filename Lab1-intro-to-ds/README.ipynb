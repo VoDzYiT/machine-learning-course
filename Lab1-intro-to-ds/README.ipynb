{
 "cells": [
  {
   "cell_type": "markdown",
   "source": [
    "# Project Overview\n",
    "This project consist of two parts:\n",
    "[First part](Lab1-intro-to-ds/pd-basic.ipynb) is introduction to pandas, there are various essential concepts covered, such as data manipulation, indexing and filtering data in pandas. Also there is a data cleaning\n",
    "\n",
    "[Second part](Lab1-intro-to-ds/titanic-analysis.ipynb) is like summary of the first part, and using these new knowledge to analyse a titanic dataset. This part includes data cleaning, visualisation and analysing"
   ],
   "metadata": {
    "collapsed": false
   },
   "id": "2340d65fc578b76f"
  }
 ],
 "metadata": {
  "kernelspec": {
   "display_name": "Python 3",
   "language": "python",
   "name": "python3"
  },
  "language_info": {
   "codemirror_mode": {
    "name": "ipython",
    "version": 2
   },
   "file_extension": ".py",
   "mimetype": "text/x-python",
   "name": "python",
   "nbconvert_exporter": "python",
   "pygments_lexer": "ipython2",
   "version": "2.7.6"
  }
 },
 "nbformat": 4,
 "nbformat_minor": 5
}
