{
 "cells": [
  {
   "cell_type": "markdown",
   "source": [
    "# Classification, regression and clustering using the library scikit-learn"
   ],
   "metadata": {
    "collapsed": false
   },
   "id": "9f49ee28faca4b0"
  },
  {
   "cell_type": "markdown",
   "source": [
    "In this part will be used popular machine learning library scikit-learn for regression, classification and clustering."
   ],
   "metadata": {
    "collapsed": false
   },
   "id": "284a6513ffb2d02c"
  },
  {
   "cell_type": "markdown",
   "source": [
    "# Content\n",
    "1) Creating a linear regression using the scikit-learn model\n",
    "2) Train a SVC model for clustering\n",
    "3) Comparison of different estimators for classification"
   ],
   "metadata": {
    "collapsed": false
   },
   "id": "10ad9ccfb8e2770b"
  },
  {
   "cell_type": "markdown",
   "source": [],
   "metadata": {
    "collapsed": false
   },
   "id": "9201467213cda262"
  },
  {
   "cell_type": "markdown",
   "source": [],
   "metadata": {
    "collapsed": false
   },
   "id": "3779b5deaac296a0"
  }
 ],
 "metadata": {
  "kernelspec": {
   "display_name": "Python 3",
   "language": "python",
   "name": "python3"
  },
  "language_info": {
   "codemirror_mode": {
    "name": "ipython",
    "version": 2
   },
   "file_extension": ".py",
   "mimetype": "text/x-python",
   "name": "python",
   "nbconvert_exporter": "python",
   "pygments_lexer": "ipython2",
   "version": "2.7.6"
  }
 },
 "nbformat": 4,
 "nbformat_minor": 5
}
