{
 "cells": [
  {
   "cell_type": "markdown",
   "source": [
    "# K-nearest neighbor classification and the Digits dataset, part 1"
   ],
   "metadata": {
    "collapsed": false
   },
   "id": "1d346bb8e5e75d56"
  },
  {
   "cell_type": "markdown",
   "source": [
    "The essence of this project is to train a KNN classification model for analyzing 8x8 images with numbers"
   ],
   "metadata": {
    "collapsed": false
   },
   "id": "fe69fc48b3956fbd"
  },
  {
   "cell_type": "markdown",
   "source": [
    "# Content\n",
    "\n",
    "1) Download and review the dataset\n",
    "    Downloading digits dataset from sklearn\n",
    "2) Creation a KNN model\n",
    "    Training the model and parameters selection\n",
    "3) Testing other models\n",
    "    Testing and compare SVC and GaussianNB\n"
   ],
   "metadata": {
    "collapsed": false
   },
   "id": "b006bde883e1e002"
  }
 ],
 "metadata": {
  "kernelspec": {
   "display_name": "Python 3",
   "language": "python",
   "name": "python3"
  },
  "language_info": {
   "codemirror_mode": {
    "name": "ipython",
    "version": 2
   },
   "file_extension": ".py",
   "mimetype": "text/x-python",
   "name": "python",
   "nbconvert_exporter": "python",
   "pygments_lexer": "ipython2",
   "version": "2.7.6"
  }
 },
 "nbformat": 4,
 "nbformat_minor": 5
}
