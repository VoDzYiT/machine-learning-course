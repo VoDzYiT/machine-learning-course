{
 "cells": [
  {
   "cell_type": "markdown",
   "source": [
    "# Content\n",
    "This project consists of one part:\n",
    "[Lab02](lab02_time_series_regression/lab02.ipynb)"
   ],
   "metadata": {
    "collapsed": false
   },
   "id": "81f7ba1da493e678"
  },
  {
   "cell_type": "markdown",
   "source": [
    "# Lab02\n",
    "This part about time series and simple linear regression.\n",
    "The purpose is to process historical meteorological data, visualize it using a regression line, predict future values, and analyze temperature trends over 120 years.\n",
    "\n",
    "The main stages:\n",
    "    1) Downloading data\n",
    "    2) Data processing\n",
    "    3) Making prediction using mathematical model\n",
    "    4) Visualising"
   ],
   "metadata": {
    "collapsed": false
   },
   "id": "9b6023ff4506f2ab"
  }
 ],
 "metadata": {
  "kernelspec": {
   "display_name": "Python 3",
   "language": "python",
   "name": "python3"
  },
  "language_info": {
   "codemirror_mode": {
    "name": "ipython",
    "version": 2
   },
   "file_extension": ".py",
   "mimetype": "text/x-python",
   "name": "python",
   "nbconvert_exporter": "python",
   "pygments_lexer": "ipython2",
   "version": "2.7.6"
  }
 },
 "nbformat": 4,
 "nbformat_minor": 5
}
