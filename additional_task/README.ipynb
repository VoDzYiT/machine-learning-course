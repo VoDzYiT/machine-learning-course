{
 "cells": [
  {
   "cell_type": "markdown",
   "source": [
    "# Salary Prediction on StackOverflow Survey Data"
   ],
   "metadata": {
    "collapsed": false
   },
   "id": "ea2c2341f92d62be"
  },
  {
   "cell_type": "markdown",
   "source": [
    "This project aims to predict the annual salary of developers using the StackOverflow Developer Survey data. I experimented with multiple models including Linear Regression and Random Forest Regressor, and explored how feature selection, data preprocessing, and transformation techniques impact model performance."
   ],
   "metadata": {
    "collapsed": false
   },
   "id": "158a70b7655bf147"
  },
  {
   "cell_type": "markdown",
   "source": [
    "# Content\n",
    "- Data processing\n",
    "  - Age processing\n",
    "  - Employment processing\n",
    "  - Nominative column processing\n",
    "  - Numerical values processing\n",
    "- Work analysis\n",
    "  - Correlation analysis\n",
    "  - Factors visualisation\n",
    "- Analysing learning method\n",
    "- Regression model\n",
    "  - Linear regression\n",
    "  - Random forest regressor\n",
    "- Conclusion"
   ],
   "metadata": {
    "collapsed": false
   },
   "id": "be422c1dd15c1628"
  }
 ],
 "metadata": {
  "kernelspec": {
   "display_name": "Python 3",
   "language": "python",
   "name": "python3"
  },
  "language_info": {
   "codemirror_mode": {
    "name": "ipython",
    "version": 2
   },
   "file_extension": ".py",
   "mimetype": "text/x-python",
   "name": "python",
   "nbconvert_exporter": "python",
   "pygments_lexer": "ipython2",
   "version": "2.7.6"
  }
 },
 "nbformat": 4,
 "nbformat_minor": 5
}
